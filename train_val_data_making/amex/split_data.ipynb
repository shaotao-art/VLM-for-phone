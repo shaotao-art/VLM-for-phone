{
 "cells": [
  {
   "cell_type": "code",
   "execution_count": null,
   "metadata": {},
   "outputs": [],
   "source": [
    "## 将有function ann的\n",
    "# 0 - 20,000 train, split into for split for data num exp\n",
    "# 20,000 - 21,000 val"
   ]
  },
  {
   "cell_type": "code",
   "execution_count": 1,
   "metadata": {},
   "outputs": [],
   "source": [
    "import pandas as pd\n",
    "import numpy as np\n",
    "import os\n",
    "import sys\n",
    "import os\n",
    "sys.path.append(os.path.dirname(os.path.abspath('../')))\n",
    "\n",
    "from utils.file_utils import read_json"
   ]
  },
  {
   "cell_type": "code",
   "execution_count": 2,
   "metadata": {},
   "outputs": [
    {
     "name": "stdout",
     "output_type": "stream",
     "text": [
      "(104674, 3) Index(['filename', 'num_desc_ann', 'num_func_ann'], dtype='object')\n"
     ]
    },
    {
     "data": {
      "text/html": [
       "<div>\n",
       "<style scoped>\n",
       "    .dataframe tbody tr th:only-of-type {\n",
       "        vertical-align: middle;\n",
       "    }\n",
       "\n",
       "    .dataframe tbody tr th {\n",
       "        vertical-align: top;\n",
       "    }\n",
       "\n",
       "    .dataframe thead th {\n",
       "        text-align: right;\n",
       "    }\n",
       "</style>\n",
       "<table border=\"1\" class=\"dataframe\">\n",
       "  <thead>\n",
       "    <tr style=\"text-align: right;\">\n",
       "      <th></th>\n",
       "      <th>filename</th>\n",
       "      <th>num_desc_ann</th>\n",
       "      <th>num_func_ann</th>\n",
       "    </tr>\n",
       "  </thead>\n",
       "  <tbody>\n",
       "    <tr>\n",
       "      <th>0</th>\n",
       "      <td>2024_3_18_17_19_e8ba0101cbc74242b48af70a57dafd...</td>\n",
       "      <td>7</td>\n",
       "      <td>0</td>\n",
       "    </tr>\n",
       "    <tr>\n",
       "      <th>1</th>\n",
       "      <td>2024_3_18_17_19_e8ba0101cbc74242b48af70a57dafd...</td>\n",
       "      <td>11</td>\n",
       "      <td>0</td>\n",
       "    </tr>\n",
       "    <tr>\n",
       "      <th>2</th>\n",
       "      <td>2024_3_18_17_19_e8ba0101cbc74242b48af70a57dafd...</td>\n",
       "      <td>12</td>\n",
       "      <td>0</td>\n",
       "    </tr>\n",
       "    <tr>\n",
       "      <th>3</th>\n",
       "      <td>2024_3_18_17_19_e8ba0101cbc74242b48af70a57dafd...</td>\n",
       "      <td>11</td>\n",
       "      <td>0</td>\n",
       "    </tr>\n",
       "    <tr>\n",
       "      <th>4</th>\n",
       "      <td>2024_3_18_17_19_e8ba0101cbc74242b48af70a57dafd...</td>\n",
       "      <td>12</td>\n",
       "      <td>0</td>\n",
       "    </tr>\n",
       "  </tbody>\n",
       "</table>\n",
       "</div>"
      ],
      "text/plain": [
       "                                            filename  num_desc_ann  \\\n",
       "0  2024_3_18_17_19_e8ba0101cbc74242b48af70a57dafd...             7   \n",
       "1  2024_3_18_17_19_e8ba0101cbc74242b48af70a57dafd...            11   \n",
       "2  2024_3_18_17_19_e8ba0101cbc74242b48af70a57dafd...            12   \n",
       "3  2024_3_18_17_19_e8ba0101cbc74242b48af70a57dafd...            11   \n",
       "4  2024_3_18_17_19_e8ba0101cbc74242b48af70a57dafd...            12   \n",
       "\n",
       "   num_func_ann  \n",
       "0             0  \n",
       "1             0  \n",
       "2             0  \n",
       "3             0  \n",
       "4             0  "
      ]
     },
     "execution_count": 2,
     "metadata": {},
     "output_type": "execute_result"
    }
   ],
   "source": [
    "df = pd.read_excel('./out/amex_info.xlsx')\n",
    "print(df.shape, df.columns)\n",
    "df.head()"
   ]
  },
  {
   "cell_type": "markdown",
   "metadata": {},
   "source": [
    "## split val"
   ]
  },
  {
   "cell_type": "code",
   "execution_count": 3,
   "metadata": {},
   "outputs": [
    {
     "name": "stdout",
     "output_type": "stream",
     "text": [
      "has func ann num:  21349\n",
      "{'page_caption': 'This is a wishlist page displaying a list of gaming chairs with options to clear all items, add them to the cart, and navigate through different tabs.', 'image_path': '2024_3_18_17_19_e8ba0101cbc74242b48af70a57dafdf5-16.png', 'clickable_elements': [{'bbox': [1200, 72, 1404, 237], 'xml_desc': ['Clear all'], 'functionality': 'Click to clear all items from the wishlist.', 'idx': 0}, {'bbox': [1218, 312, 1368, 414], 'xml_desc': [], 'functionality': '', 'idx': 1}, {'bbox': [1074, 315, 1218, 411], 'xml_desc': [], 'functionality': '', 'idx': 2}, {'bbox': [72, 486, 1368, 846], 'xml_desc': ['\\u200bM\\u200bA\\u200bT\\u200bC\\u200bH\\u200bS\\u200bP\\u200bE\\u200bL\\u200b\\ngaming chair, Bomstad black\\n$\\n1,699'], 'functionality': 'Click to view details of the MATCHSPEL gaming chair.', 'idx': 3}, {'bbox': [1272, 486, 1344, 558], 'xml_desc': [], 'functionality': '', 'idx': 4}, {'bbox': [1248, 618, 1368, 738], 'xml_desc': [], 'functionality': '', 'idx': 5}, {'bbox': [72, 969, 1368, 1329], 'xml_desc': ['\\u200bU\\u200bT\\u200bE\\u200bS\\u200bP\\u200bE\\u200bL\\u200bA\\u200bR\\u200bE\\u200b\\ngaming chair, Bomstad black\\n$\\n999\\n.9'], 'functionality': 'Click to view details of the UTESPELARE gaming chair.', 'idx': 6}, {'bbox': [1272, 969, 1344, 1041], 'xml_desc': [], 'functionality': '', 'idx': 7}, {'bbox': [1248, 1101, 1368, 1221], 'xml_desc': [], 'functionality': '', 'idx': 8}, {'bbox': [72, 1452, 1368, 1812], 'xml_desc': ['\\u200bH\\u200bU\\u200bV\\u200bU\\u200bD\\u200bS\\u200bP\\u200bE\\u200bL\\u200bA\\u200bR\\u200bE\\u200b\\ngaming chair, black\\n$\\n699\\n.9'], 'functionality': 'Click to view details of the HUVUDSPELARE gaming chair.', 'idx': 9}, {'bbox': [1272, 1452, 1344, 1524], 'xml_desc': [], 'functionality': '', 'idx': 10}, {'bbox': [1248, 1584, 1368, 1704], 'xml_desc': [], 'functionality': '', 'idx': 11}, {'bbox': [72, 2561, 1368, 2729], 'xml_desc': ['Add available items to cart'], 'functionality': 'Click to add available items to the cart.', 'idx': 12}, {'bbox': [0, 2798, 288, 2954], 'xml_desc': ['Home\\nTab 1 of 5'], 'functionality': 'Click to navigate to the Home tab.', 'idx': 13}, {'bbox': [288, 2798, 576, 2954], 'xml_desc': ['Inspirations\\nTab 2 of 5'], 'functionality': 'Click to navigate to the Inspirations tab.', 'idx': 14}, {'bbox': [576, 2798, 864, 2954], 'xml_desc': ['User\\nTab 3 of 5'], 'functionality': 'Click to navigate to the User tab.', 'idx': 15}, {'bbox': [864, 2798, 1152, 2954], 'xml_desc': ['Wishlist\\nTab 4 of 5'], 'functionality': 'Click to navigate to the Wishlist tab.', 'idx': 16}, {'bbox': [1152, 2798, 1440, 2954], 'xml_desc': ['Cart\\nTab 5 of 5'], 'functionality': 'Click to navigate to the Cart tab.', 'idx': 17}], 'scrollable_elements': []}\n"
     ]
    }
   ],
   "source": [
    "ann_root = '/home/shaotao/DATA/AMEX/element_anno'\n",
    "num_has_func_ann = np.sum(df['num_func_ann'] > 0)\n",
    "print('has func ann num: ', num_has_func_ann)\n",
    "filt = df['num_func_ann'] > 0\n",
    "p_df = df[filt]\n",
    "import random\n",
    "idx = list(range(len(p_df)))\n",
    "random.seed(42)\n",
    "random.shuffle(idx)\n",
    "out_idx = idx[20000:21000]\n",
    "amex_func_5k_df = p_df.iloc[out_idx]\n",
    "sample_filename = p_df.iloc[0]['filename']\n",
    "ann_p = os.path.join(ann_root, sample_filename)\n",
    "ann = read_json(ann_p)\n",
    "print(ann)\n",
    "amex_func_5k_df.to_excel('amex_val.xlsx', index=False)"
   ]
  },
  {
   "cell_type": "markdown",
   "metadata": {},
   "source": [
    "## split train"
   ]
  },
  {
   "cell_type": "code",
   "execution_count": 8,
   "metadata": {},
   "outputs": [],
   "source": [
    "ann_root = '/home/shaotao/DATA/AMEX/element_anno'\n",
    "filt = df['num_func_ann'] > 0\n",
    "p_df = df[filt]\n",
    "import random\n",
    "num_samples = 20000\n",
    "idx = list(range(len(p_df)))\n",
    "random.seed(42)\n",
    "random.shuffle(idx)\n",
    "out_idx = idx[:num_samples]\n",
    "p_df = p_df.iloc[out_idx]\n",
    "sample_filename = p_df.iloc[0]['filename']\n",
    "ann_p = os.path.join(ann_root, sample_filename)\n",
    "ann = read_json(ann_p)\n",
    "p_df.to_excel('amex_func_20k.xlsx', index=False)"
   ]
  }
 ],
 "metadata": {
  "kernelspec": {
   "display_name": "vlm",
   "language": "python",
   "name": "python3"
  },
  "language_info": {
   "codemirror_mode": {
    "name": "ipython",
    "version": 3
   },
   "file_extension": ".py",
   "mimetype": "text/x-python",
   "name": "python",
   "nbconvert_exporter": "python",
   "pygments_lexer": "ipython3",
   "version": "3.10.15"
  }
 },
 "nbformat": 4,
 "nbformat_minor": 2
}
