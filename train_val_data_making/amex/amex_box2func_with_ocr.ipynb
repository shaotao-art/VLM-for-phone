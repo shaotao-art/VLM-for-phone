{
 "cells": [
  {
   "cell_type": "code",
   "execution_count": 1,
   "metadata": {},
   "outputs": [],
   "source": [
    "import sys\n",
    "import os\n",
    "sys.path.append(os.path.dirname(os.path.abspath('../')))\n",
    "\n",
    "from tqdm import tqdm\n",
    "import pandas as pd\n",
    "from utils.file_utils import read_image, read_json, save_image, save_json, read_pkl\n",
    "from utils.draw_utils import draw_box\n",
    "from utils.helper_utils import float2_0_1000\n",
    "from prompts import all_prompts"
   ]
  },
  {
   "cell_type": "markdown",
   "metadata": {},
   "source": [
    "# make train"
   ]
  },
  {
   "cell_type": "code",
   "execution_count": 2,
   "metadata": {},
   "outputs": [],
   "source": [
    "img_root = '/home/shaotao/DATA/AMEX/screenshot'\n",
    "ann_root = '/home/shaotao/DATA/AMEX/element_anno'\n",
    "shape_pkl_p = './out/amex_img_shapes.pkl'\n",
    "df_p = './out/amex_info.xlsx'\n",
    "out_json_p = f'amex_box2func_with_ocr.json'\n",
    "\n",
    "df = pd.read_excel(df_p)\n",
    "filt = df['num_func_ann'] > 0\n",
    "df = df[filt]"
   ]
  },
  {
   "cell_type": "code",
   "execution_count": null,
   "metadata": {},
   "outputs": [],
   "source": [
    "print(df.shape, df.columns)"
   ]
  },
  {
   "cell_type": "code",
   "execution_count": null,
   "metadata": {},
   "outputs": [],
   "source": [
    "# get ori img shape dict\n",
    "img_shape_dict = read_pkl(shape_pkl_p)\n",
    "INIT_PROMPT = all_prompts['box2func_with_ocr_prompt_for_train']\n",
    "CONTINUE_PROMPT = \"\"\"## Box\n",
    "({x1},{y1}),({x2},{y2})\n",
    "\n",
    "## OCR result\n",
    "{text}\"\"\"\n",
    "\n",
    "import random\n",
    "random.seed(42)\n",
    "all_datas = []\n",
    "for img_idx in tqdm(range(df.shape[0])):\n",
    "    ann_p = os.path.join(ann_root, df.iloc[img_idx]['filename'])\n",
    "    ann = read_json(ann_p)\n",
    "    \n",
    "    img_p = ann['image_path']\n",
    "    click_ele_lst = ann['clickable_elements']\n",
    "    h, w = img_shape_dict[img_p]\n",
    "    img_p = os.path.join(img_root, img_p)\n",
    "    if img_idx % 500 == 0:\n",
    "        img = read_image(img_p)\n",
    "    \n",
    "    # find specific elements\n",
    "    final_ele_lst = []\n",
    "    for ele in click_ele_lst:\n",
    "        func_ann = ele.get('functionality', '').strip()\n",
    "        has_func = func_ann != ''\n",
    "        if has_func:\n",
    "            final_ele_lst.append(ele)\n",
    "    random.shuffle(final_ele_lst)\n",
    " \n",
    "    conversation = []\n",
    "    for ele_idx, ele in enumerate(final_ele_lst):\n",
    "        box = ele['bbox']\n",
    "        func_ann = ele.get('functionality', '').strip()\n",
    "        text = ele.get('xml_desc', [])\n",
    "        type_ = ele.get('type', 'text')\n",
    "            \n",
    "        if len(text) == 0:\n",
    "            text = 'null'\n",
    "        else:\n",
    "            text = text[0].strip()\n",
    "        if 'icon' in type_.lower():\n",
    "            text = 'null'\n",
    "        if 'tab' in text.lower():\n",
    "            text = 'null'\n",
    "        text = text.replace('\\n', ' ')\n",
    "        text = text.replace('\\u200b', '')\n",
    "\n",
    "        has_func = func_ann != ''\n",
    "        x1, y1, x2, y2 = box\n",
    "        x1, y1, x2, y2 = x1 / w, y1 / h, x2 / w, y2 / h\n",
    "        try:\n",
    "            pt = list(map(float2_0_1000, [x1, y1, x2, y2]))\n",
    "        except Exception as e:\n",
    "            print('idx: ', img_idx, e)\n",
    "            # skip whole image\n",
    "            break\n",
    "        if has_func:\n",
    "            if ele_idx == 0:   \n",
    "                prompt = INIT_PROMPT.format(x1=pt[0], y1=pt[1], x2=pt[2], y2=pt[3], text=text)\n",
    "            else:\n",
    "                prompt = CONTINUE_PROMPT.format(x1=pt[0], y1=pt[1], x2=pt[2], y2=pt[3], text=text)\n",
    "        else:\n",
    "            print(f'no func ann in idx: {img_idx}')\n",
    "            continue\n",
    "\n",
    "\n",
    "        ans = func_ann\n",
    "        conversation.append({'from': 'human', 'value': prompt})\n",
    "        conversation.append({'from': 'gpt', 'value': ans})\n",
    "        if img_idx % 500 == 0:\n",
    "            img = draw_box(img, (x1, y1, x2, y2))\n",
    "    if img_idx % 500 == 0:\n",
    "        save_image(img, f'tmp_{img_idx}.jpg')\n",
    "    if len(conversation) == 0:\n",
    "        print('skipping idx: ', img_idx)\n",
    "        continue\n",
    "    line = {'conversation': conversation, 'image_lst': [os.path.join(img_root, img_p)]}\n",
    "    all_datas.append(line)\n",
    "    if len(all_datas) % 500 == 0:\n",
    "        print(f'IDX: {len(all_datas)},  sample func_ann: {func_ann}')\n",
    "    # break\n",
    "print('total data num: ', len(all_datas))\n",
    "save_json(all_datas, out_json_p)"
   ]
  },
  {
   "cell_type": "code",
   "execution_count": null,
   "metadata": {},
   "outputs": [],
   "source": []
  }
 ],
 "metadata": {
  "kernelspec": {
   "display_name": "vlm",
   "language": "python",
   "name": "python3"
  },
  "language_info": {
   "codemirror_mode": {
    "name": "ipython",
    "version": 3
   },
   "file_extension": ".py",
   "mimetype": "text/x-python",
   "name": "python",
   "nbconvert_exporter": "python",
   "pygments_lexer": "ipython3",
   "version": "3.10.15"
  }
 },
 "nbformat": 4,
 "nbformat_minor": 2
}
