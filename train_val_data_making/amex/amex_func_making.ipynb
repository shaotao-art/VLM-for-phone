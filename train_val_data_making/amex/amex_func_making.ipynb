{
 "cells": [
  {
   "cell_type": "code",
   "execution_count": 1,
   "metadata": {},
   "outputs": [],
   "source": [
    "import sys\n",
    "import os\n",
    "sys.path.append(os.path.dirname(os.path.abspath('../')))\n",
    "\n",
    "from tqdm import tqdm\n",
    "import pandas as pd\n",
    "from utils.file_utils import read_image, read_json, save_image, save_json, read_pkl\n",
    "from utils.draw_utils import draw_box\n",
    "from utils.helper_utils import float2_0_1000"
   ]
  },
  {
   "cell_type": "markdown",
   "metadata": {},
   "source": [
    "# make val"
   ]
  },
  {
   "cell_type": "code",
   "execution_count": 5,
   "metadata": {},
   "outputs": [
    {
     "name": "stderr",
     "output_type": "stream",
     "text": [
      "100%|██████████| 1000/1000 [00:00<00:00, 2597.33it/s]"
     ]
    },
    {
     "name": "stdout",
     "output_type": "stream",
     "text": [
      "total data num:  1000\n"
     ]
    },
    {
     "name": "stderr",
     "output_type": "stream",
     "text": [
      "\n"
     ]
    }
   ],
   "source": [
    "img_root = '/home/shaotao/DATA/AMEX/screenshot'\n",
    "ann_root = '/home/shaotao/DATA/AMEX/element_anno'\n",
    "shape_pkl_p = './out/amex_img_shapes.pkl'\n",
    "val_df_p = './out/amex_val.xlsx'\n",
    "choice = 'text'\n",
    "assert choice in {'func', 'text'}\n",
    "out_json_p = f'amex_val_{choice}.json'\n",
    "\n",
    "df = pd.read_excel(val_df_p)\n",
    "# get ori img shape dict\n",
    "img_shape_dict = read_pkl(shape_pkl_p)\n",
    "all_ann_p = sorted(os.listdir(ann_root))\n",
    "\n",
    "INIT_PROMPT = \"\"\"<image>Output the location of target element according to the given instruction.\n",
    "## Instruction\n",
    "{instruction}\"\"\"\n",
    "\n",
    "import random\n",
    "random.seed(42)\n",
    "all_datas = []\n",
    "for img_idx in tqdm(range(len(df))):\n",
    "    ann_p = os.path.join(ann_root, df.iloc[img_idx]['filename'])\n",
    "    ann = read_json(ann_p)\n",
    "    \n",
    "    img_p = ann['image_path']\n",
    "    click_ele_lst = ann['clickable_elements']\n",
    "    h, w = img_shape_dict[img_p]\n",
    "    img_p = os.path.join(img_root, img_p)\n",
    "    if img_idx % 100 == 0:\n",
    "        img = read_image(img_p)\n",
    "        \n",
    "    random.shuffle(click_ele_lst)\n",
    "    conversation = []\n",
    "    if choice == 'func':\n",
    "        for ele_idx, ele in enumerate(click_ele_lst):\n",
    "            box = ele['bbox']\n",
    "            func_ann = ele.get('functionality', '').strip()\n",
    "            has_func = func_ann != ''\n",
    "            if has_func:\n",
    "                if func_ann.startswith('Click to '):\n",
    "                    func_ann = func_ann.lower().replace('click to ', '')\n",
    "                prompt = INIT_PROMPT.format(instruction=func_ann)\n",
    "                break\n",
    "            else:\n",
    "                continue\n",
    "    else:\n",
    "        for ele_idx, ele in enumerate(click_ele_lst):\n",
    "            box = ele['bbox']\n",
    "            text_ann = ele.get('xml_desc', [])\n",
    "            has_text = len(text_ann) > 0\n",
    "            if has_text:\n",
    "                text_ann = text_ann[0]\n",
    "                text_ann = text_ann.replace('\\n', ',')\n",
    "                prompt = INIT_PROMPT.format(instruction=text_ann)\n",
    "                break\n",
    "            else:\n",
    "                continue\n",
    "            \n",
    "    x1, y1, x2, y2 = box\n",
    "    gt_box = x1 / w, y1 / h, x2 / w, y2 / h\n",
    "    if img_idx % 100 == 0:\n",
    "        img = draw_box(img, gt_box)\n",
    "        save_image(img, f'tmp_{img_idx}.jpg')\n",
    "    try:\n",
    "        gt_box = list(map(float2_0_1000, gt_box))\n",
    "    except Exception as e:\n",
    "        print(e)\n",
    "        continue\n",
    "    ans = f'({gt_box[0]},{gt_box[1]},{gt_box[2]},{gt_box[3]})'\n",
    "    conversation.append({'from': 'human', 'value': prompt})\n",
    "    conversation.append({'from': 'gt', 'value': ans, 'type': 'func' if choice == 0 else 'text'})\n",
    "\n",
    "    line = {'conversation': conversation, 'image_lst': [os.path.join(img_root, img_p)]}\n",
    "    all_datas.append(line)\n",
    "print('total data num: ', len(all_datas))\n",
    "save_json(all_datas, out_json_p)"
   ]
  },
  {
   "cell_type": "markdown",
   "metadata": {},
   "source": [
    "# make train"
   ]
  },
  {
   "cell_type": "code",
   "execution_count": 18,
   "metadata": {},
   "outputs": [
    {
     "name": "stderr",
     "output_type": "stream",
     "text": [
      "  3%|▎         | 501/20000 [00:00<00:08, 2415.61it/s]"
     ]
    },
    {
     "name": "stdout",
     "output_type": "stream",
     "text": [
      "idx:  242 get input: 1.1854636591478696\n",
      "idx:  242 get input: 1.06265664160401\n",
      "idx:  242 get input: 1.799498746867168\n",
      "idx:  242 get input: 1.5538847117794488\n",
      "idx:  242 get input: 1.431077694235589\n",
      "idx:  242 get input: 1.6766917293233083\n",
      "idx:  242 get input: 1.3082706766917294\n",
      "IDX: 500,  sample func_ann: view details about 'the international americana music show'.\n"
     ]
    },
    {
     "name": "stderr",
     "output_type": "stream",
     "text": [
      "  7%|▋         | 1323/20000 [00:00<00:05, 3196.11it/s]"
     ]
    },
    {
     "name": "stdout",
     "output_type": "stream",
     "text": [
      "IDX: 1000,  sample func_ann: enter a destination to search for travel options.\n",
      "IDX: 1500,  sample func_ann: select economy class for the flight search.\n"
     ]
    },
    {
     "name": "stderr",
     "output_type": "stream",
     "text": [
      " 12%|█▏        | 2494/20000 [00:00<00:04, 3537.06it/s]"
     ]
    },
    {
     "name": "stdout",
     "output_type": "stream",
     "text": [
      "IDX: 2000,  sample func_ann: open the messaging app.\n",
      "IDX: 2500,  sample func_ann: view details or emails related to 'amazon'\n"
     ]
    },
    {
     "name": "stderr",
     "output_type": "stream",
     "text": [
      " 18%|█▊        | 3533/20000 [00:01<00:05, 3189.48it/s]"
     ]
    },
    {
     "name": "stdout",
     "output_type": "stream",
     "text": [
      "IDX: 3000,  sample func_ann: mark the first workout as complete or to start the first workout.\n",
      "idx:  3161 get input: 1.8028846153846154\n",
      "idx:  3161 get input: 1.5513784461152882\n",
      "idx:  3161 get input: 1.3399122807017543\n",
      "idx:  3345 get input: 1.2735969387755102\n",
      "idx:  3345 get input: 1.4546703296703296\n",
      "idx:  3345 get input: 1.6936813186813187\n",
      "idx:  3345 get input: 1.6483516483516483\n",
      "idx:  3345 get input: 1.8459821428571428\n",
      "IDX: 3500,  sample func_ann: go to podcasts.\n"
     ]
    },
    {
     "name": "stderr",
     "output_type": "stream",
     "text": [
      " 20%|██        | 4001/20000 [00:01<00:05, 3199.02it/s]"
     ]
    },
    {
     "name": "stdout",
     "output_type": "stream",
     "text": [
      "idx:  3610 get input: 1.7123376623376623\n",
      "idx:  3610 get input: 1.275974025974026\n",
      "idx:  3610 get input: 1.5253246753246752\n",
      "idx:  3610 get input: 1.7746753246753246\n",
      "idx:  3906 get input: 1.4237882653061225\n",
      "idx:  3906 get input: 1.7802197802197801\n",
      "idx:  3906 get input: 1.5556318681318682\n",
      "idx:  3906 get input: 1.8762755102040816\n",
      "idx:  3906 get input: 1.527423469387755\n",
      "idx:  3906 get input: 1.2740384615384617\n",
      "idx:  3906 get input: 1.3846153846153846\n",
      "idx:  3906 get input: 1.8762755102040816\n",
      "IDX: 4000,  sample func_ann: view details of this recent search.\n",
      "idx:  4298 get input: 1.4623376623376623\n",
      "idx:  4298 get input: 1.6987012987012986\n",
      "idx:  4298 get input: 1.2155844155844155\n",
      "idx:  4298 get input: 1.630952380952381\n",
      "idx:  4298 get input: 1.844155844155844\n",
      "idx:  4298 get input: 1.4623376623376623\n",
      "idx:  4298 get input: 1.1785714285714286\n",
      "idx:  4332 get input: 1.3968253968253967\n",
      "idx:  4332 get input: 1.3968253968253967\n",
      "idx:  4332 get input: 1.6666666666666665\n",
      "idx:  4332 get input: 1.3968253968253967\n",
      "idx:  4332 get input: 1.3968253968253967\n",
      "idx:  4332 get input: 1.3968253968253967\n",
      "idx:  4332 get input: 1.3968253968253967\n",
      "idx:  4332 get input: 1.8675324675324676\n",
      "idx:  4332 get input: 1.3968253968253967\n",
      "idx:  4332 get input: 1.3968253968253967\n"
     ]
    },
    {
     "name": "stderr",
     "output_type": "stream",
     "text": [
      " 24%|██▍       | 4863/20000 [00:01<00:04, 3498.08it/s]"
     ]
    },
    {
     "name": "stdout",
     "output_type": "stream",
     "text": [
      "IDX: 4500,  sample func_ann: learn more about the songkran event.\n",
      "idx:  4765 get input: 1.8577922077922078\n",
      "idx:  4765 get input: 1.8577922077922078\n",
      "idx:  4765 get input: 1.029100529100529\n",
      "idx:  4765 get input: 1.7288359788359788\n",
      "idx:  4765 get input: 1.3333333333333333\n",
      "idx:  4765 get input: 1.7142857142857142\n",
      "idx:  4765 get input: 1.8577922077922078\n",
      "IDX: 5000,  sample func_ann: navigate to the home tab.\n"
     ]
    },
    {
     "name": "stderr",
     "output_type": "stream",
     "text": [
      " 30%|███       | 6001/20000 [00:01<00:04, 3299.39it/s]"
     ]
    },
    {
     "name": "stdout",
     "output_type": "stream",
     "text": [
      "IDX: 5500,  sample func_ann: select 'personal o profesor' (staff or teacher).\n",
      "IDX: 6000,  sample func_ann: confirm the selected dates for booking.\n"
     ]
    },
    {
     "name": "stderr",
     "output_type": "stream",
     "text": [
      " 34%|███▍      | 6873/20000 [00:02<00:03, 3557.45it/s]"
     ]
    },
    {
     "name": "stdout",
     "output_type": "stream",
     "text": [
      "IDX: 6500,  sample func_ann: downvote.\n",
      "idx:  6542 get input: 1.469298245614035\n",
      "idx:  6542 get input: 1.3289473684210527\n",
      "idx:  6542 get input: 1.8408521303258145\n",
      "idx:  6542 get input: 1.0482456140350878\n",
      "idx:  6542 get input: 1.6096491228070176\n",
      "idx:  6542 get input: 1.8408521303258145\n",
      "idx:  6542 get input: 1.1885964912280702\n",
      "IDX: 7000,  sample func_ann: claim your artist profile.\n"
     ]
    },
    {
     "name": "stderr",
     "output_type": "stream",
     "text": [
      " 40%|████      | 8033/20000 [00:02<00:03, 3522.27it/s]"
     ]
    },
    {
     "name": "stdout",
     "output_type": "stream",
     "text": [
      "IDX: 7500,  sample func_ann: filter search results to show items made of brass.\n",
      "IDX: 8000,  sample func_ann: view details and purchase the running shoes priced at $25.37.\n"
     ]
    },
    {
     "name": "stderr",
     "output_type": "stream",
     "text": [
      " 45%|████▍     | 8992/20000 [00:02<00:02, 3812.25it/s]"
     ]
    },
    {
     "name": "stdout",
     "output_type": "stream",
     "text": [
      "IDX: 8500,  sample func_ann: enter a keyword for search.\n",
      "IDX: 9000,  sample func_ann: filter products by 'beverages' category.\n"
     ]
    },
    {
     "name": "stderr",
     "output_type": "stream",
     "text": [
      " 51%|█████     | 10140/20000 [00:02<00:02, 3462.61it/s]"
     ]
    },
    {
     "name": "stdout",
     "output_type": "stream",
     "text": [
      "IDX: 9500,  sample func_ann: manage tv provider settings.\n",
      "idx:  9649 get input: 1.728021978021978\n",
      "IDX: 10000,  sample func_ann: filter events that are online\n",
      "idx:  10083 get input: 1.045112781954887\n"
     ]
    },
    {
     "name": "stderr",
     "output_type": "stream",
     "text": [
      " 55%|█████▍    | 10998/20000 [00:03<00:02, 3759.16it/s]"
     ]
    },
    {
     "name": "stdout",
     "output_type": "stream",
     "text": [
      "IDX: 10500,  sample func_ann: start an article search.\n",
      "IDX: 11000,  sample func_ann: sign out.\n"
     ]
    },
    {
     "name": "stderr",
     "output_type": "stream",
     "text": [
      " 59%|█████▊    | 11744/20000 [00:03<00:02, 3379.85it/s]"
     ]
    },
    {
     "name": "stdout",
     "output_type": "stream",
     "text": [
      "IDX: 11500,  sample func_ann: View album\n",
      "IDX: 12000,  sample func_ann: read the full article about the class of 2024\n"
     ]
    },
    {
     "name": "stderr",
     "output_type": "stream",
     "text": [
      " 65%|██████▌   | 13001/20000 [00:03<00:02, 3217.30it/s]"
     ]
    },
    {
     "name": "stdout",
     "output_type": "stream",
     "text": [
      "IDX: 12500,  sample func_ann: view your profile and notifications.\n",
      "IDX: 13000,  sample func_ann: Opens the 'Explore' section where the user can discover new music, genres, and playlists.\n"
     ]
    },
    {
     "name": "stderr",
     "output_type": "stream",
     "text": [
      " 69%|██████▉   | 13876/20000 [00:04<00:01, 3458.78it/s]"
     ]
    },
    {
     "name": "stdout",
     "output_type": "stream",
     "text": [
      "IDX: 13500,  sample func_ann: favorite indie rpg night @ dovetail brewery.\n",
      "idx:  13939 get input: 1.1068239795918369\n",
      "idx:  13939 get input: 1.7388392857142856\n",
      "idx:  13939 get input: 1.4524872448979593\n",
      "idx:  13939 get input: 1.2796556122448979\n",
      "IDX: 14000,  sample func_ann: select the 1er set priced at hk$24.39.\n"
     ]
    },
    {
     "name": "stderr",
     "output_type": "stream",
     "text": [
      " 75%|███████▌  | 15001/20000 [00:04<00:01, 3157.39it/s]"
     ]
    },
    {
     "name": "stdout",
     "output_type": "stream",
     "text": [
      "IDX: 14500,  sample func_ann: open settings.\n",
      "idx:  14818 get input: 1.085164835164835\n",
      "idx:  14818 get input: 1.1152882205513786\n",
      "idx:  14818 get input: 1.1152882205513786\n",
      "idx:  14818 get input: 1.8145363408521304\n",
      "idx:  14818 get input: 1.771291208791209\n",
      "idx:  14818 get input: 1.717032967032967\n",
      "idx:  14818 get input: 1.4627192982456139\n",
      "IDX: 15000,  sample func_ann: Initiates a search for events or other content.\n"
     ]
    },
    {
     "name": "stderr",
     "output_type": "stream",
     "text": [
      " 79%|███████▉  | 15853/20000 [00:04<00:01, 3490.72it/s]"
     ]
    },
    {
     "name": "stdout",
     "output_type": "stream",
     "text": [
      "idx:  15210 get input: 1.510204081632653\n",
      "idx:  15210 get input: 1.7244897959183674\n",
      "idx:  15210 get input: 1.2959183673469388\n",
      "idx:  15210 get input: 1.403061224489796\n",
      "idx:  15210 get input: 1.8316326530612246\n",
      "idx:  15408 get input: 1.6105889724310778\n",
      "idx:  15408 get input: 1.6483516483516483\n",
      "idx:  15408 get input: 1.4075814536340852\n",
      "idx:  15408 get input: 1.8434065934065935\n",
      "idx:  15408 get input: 1.7077067669172932\n",
      "idx:  15408 get input: 1.513471177944862\n",
      "idx:  15408 get input: 1.8408521303258145\n",
      "IDX: 15500,  sample func_ann: navigate to the live page.\n",
      "idx:  15518 get input: 1.6719924812030076\n",
      "idx:  15518 get input: 1.0974310776942355\n",
      "idx:  15518 get input: 1.7816416040100251\n",
      "idx:  15518 get input: 1.4946741854636592\n",
      "idx:  15518 get input: 1.3850250626566416\n",
      "IDX: 16000,  sample func_ann: confirm the selection and proceed with the chosen departure airport.\n"
     ]
    },
    {
     "name": "stderr",
     "output_type": "stream",
     "text": [
      " 83%|████████▎ | 16555/20000 [00:04<00:01, 3089.86it/s]"
     ]
    },
    {
     "name": "stdout",
     "output_type": "stream",
     "text": [
      "IDX: 16500,  sample func_ann: confirm the date selection and proceed with the chosen date.\n",
      "idx:  16886 get input: 1.3743131868131868\n",
      "idx:  16886 get input: 1.8829719387755102\n",
      "idx:  16886 get input: 1.5164835164835164\n",
      "idx:  16886 get input: 1.442920918367347\n",
      "idx:  16886 get input: 1.1128826530612246\n",
      "IDX: 17000,  sample func_ann: set or change the start time of the event.\n"
     ]
    },
    {
     "name": "stderr",
     "output_type": "stream",
     "text": [
      " 88%|████████▊ | 17501/20000 [00:05<00:00, 3363.37it/s]"
     ]
    },
    {
     "name": "stdout",
     "output_type": "stream",
     "text": [
      "idx:  17043 get input: 1.7448979591836735\n",
      "idx:  17408 get input: 1.3925324675324675\n",
      "idx:  17408 get input: 1.35978835978836\n",
      "idx:  17408 get input: 1.7777777777777777\n",
      "idx:  17408 get input: 1.6527777777777777\n",
      "idx:  17408 get input: 1.6693121693121693\n",
      "idx:  17408 get input: 1.6666666666666665\n",
      "idx:  17408 get input: 1.503968253968254\n",
      "idx:  17408 get input: 1.8636363636363638\n",
      "IDX: 17500,  sample func_ann: read more of the post.\n"
     ]
    },
    {
     "name": "stderr",
     "output_type": "stream",
     "text": [
      " 92%|█████████▏| 18373/20000 [00:05<00:00, 3508.52it/s]"
     ]
    },
    {
     "name": "stdout",
     "output_type": "stream",
     "text": [
      "IDX: 18000,  sample func_ann: open appium settings.\n",
      "IDX: 18500,  sample func_ann: view or edit the search summary for car rentals in los angeles.\n"
     ]
    },
    {
     "name": "stderr",
     "output_type": "stream",
     "text": [
      " 96%|█████████▌| 19131/20000 [00:05<00:00, 3627.52it/s]"
     ]
    },
    {
     "name": "stdout",
     "output_type": "stream",
     "text": [
      "idx:  18786 get input: 1.7392857142857143\n",
      "idx:  18786 get input: 1.7142857142857142\n",
      "idx:  18786 get input: 1.8675324675324676\n",
      "idx:  18786 get input: 1.0061688311688313\n",
      "idx:  18786 get input: 1.8675324675324676\n",
      "idx:  18786 get input: 1.3840909090909093\n",
      "IDX: 19000,  sample func_ann: edit the device name.\n",
      "idx:  19061 get input: 1.360576923076923\n",
      "idx:  19061 get input: 1.360576923076923\n",
      "idx:  19061 get input: 1.360576923076923\n",
      "idx:  19061 get input: 1.360576923076923\n",
      "idx:  19061 get input: 1.360576923076923\n",
      "idx:  19061 get input: 1.360576923076923\n",
      "idx:  19061 get input: 1.360576923076923\n",
      "idx:  19061 get input: 1.360576923076923\n",
      "idx:  19061 get input: 1.360576923076923\n",
      "idx:  19061 get input: 1.360576923076923\n",
      "idx:  19199 get input: 1.7301587301587302\n",
      "idx:  19199 get input: 1.6964285714285716\n",
      "idx:  19199 get input: 1.7301587301587302\n",
      "idx:  19199 get input: 1.753968253968254\n",
      "idx:  19199 get input: 1.3624338624338623\n",
      "idx:  19199 get input: 1.8662337662337662\n",
      "IDX: 19500,  sample func_ann: clear the recent search history.\n"
     ]
    },
    {
     "name": "stderr",
     "output_type": "stream",
     "text": [
      "100%|██████████| 20000/20000 [00:05<00:00, 3433.09it/s]\n"
     ]
    },
    {
     "name": "stdout",
     "output_type": "stream",
     "text": [
      "IDX: 20000,  sample func_ann: navigate to the live tab.\n",
      "total data num:  20000\n"
     ]
    }
   ],
   "source": [
    "img_root = '/home/shaotao/DATA/AMEX/screenshot'\n",
    "ann_root = '/home/shaotao/DATA/AMEX/element_anno'\n",
    "shape_pkl_p = './out/amex_img_shapes.pkl'\n",
    "df_p = './out/amex_func_20k.xlsx'\n",
    "ele_per_diag = 10\n",
    "inst_type = 'func'\n",
    "out_json_p = f'amex_20k_{inst_type}.json'\n",
    "assert inst_type in ['func', 'text']\n",
    "\n",
    "df = pd.read_excel(df_p)\n",
    "# get ori img shape dict\n",
    "img_shape_dict = read_pkl(shape_pkl_p)\n",
    "\n",
    "all_ann_p = sorted(os.listdir(ann_root))\n",
    "\n",
    "INIT_PROMPT = \"\"\"<image>Output the location of target element according to the given instruction.\n",
    "## Instruction\n",
    "{instruction}\"\"\"\n",
    "\n",
    "CONTINUE_PROMPT = \"\"\"## Instruction\n",
    "{instruction}\"\"\"\n",
    "\n",
    "import random\n",
    "random.seed(42)\n",
    "all_datas = []\n",
    "for img_idx in tqdm(range(df.shape[0])):\n",
    "    ann_p = os.path.join(ann_root, df.iloc[img_idx]['filename'])\n",
    "    ann = read_json(ann_p)\n",
    "    \n",
    "    img_p = ann['image_path']\n",
    "    click_ele_lst = ann['clickable_elements']\n",
    "    h, w = img_shape_dict[img_p]\n",
    "    img_p = os.path.join(img_root, img_p)\n",
    "    if img_idx % 500 == 0:\n",
    "        img = read_image(img_p)\n",
    "    random.shuffle(click_ele_lst)\n",
    "    \n",
    "    # find specific elements\n",
    "    final_ele_lst = []\n",
    "    if inst_type == 'func':\n",
    "        for ele in click_ele_lst:\n",
    "            if len(final_ele_lst) == ele_per_diag:\n",
    "                break\n",
    "            func_ann = ele.get('functionality', '').strip()\n",
    "            has_func = func_ann != ''\n",
    "            if has_func:\n",
    "                final_ele_lst.append(ele)\n",
    "    else:\n",
    "        for ele in click_ele_lst:\n",
    "            if len(final_ele_lst) == ele_per_diag:\n",
    "                break\n",
    "            text_ann = ele.get('xml_desc', [])\n",
    "            has_text = len(text_ann) > 0\n",
    "            if has_text:\n",
    "                final_ele_lst.append(ele)\n",
    "        \n",
    "    conversation = []\n",
    "    for ele_idx, ele in enumerate(final_ele_lst):\n",
    "        box = ele['bbox']\n",
    "        if inst_type == 'func':\n",
    "            func_ann = ele.get('functionality', '').strip()\n",
    "            has_func = func_ann != ''\n",
    "            if has_func:\n",
    "                if func_ann.startswith('Click to '):\n",
    "                    func_ann = func_ann.lower().replace('click to ', '')\n",
    "                    \n",
    "                if ele_idx == 0:   \n",
    "                    prompt = INIT_PROMPT.format(instruction=func_ann)\n",
    "                else:\n",
    "                    prompt = CONTINUE_PROMPT.format(instruction=func_ann)\n",
    "            else:\n",
    "                print(f'no func ann in idx: {img_idx}')\n",
    "                continue\n",
    "        else:\n",
    "            text_ann = ele.get('xml_desc', [])\n",
    "            has_text = len(text_ann) > 0\n",
    "            if has_text:\n",
    "                text_ann = text_ann[0]\n",
    "                text_ann = text_ann.replace('\\n', ',')\n",
    "                if ele_idx == 0:   \n",
    "                    prompt = INIT_PROMPT.format(instruction=text_ann)\n",
    "                else:\n",
    "                    prompt = CONTINUE_PROMPT.format(instruction=text_ann)\n",
    "            else:\n",
    "                print(f'no text ann in idx: {img_idx}')\n",
    "                continue\n",
    "            \n",
    "        x1, y1, x2, y2 = box\n",
    "        x1, y1, x2, y2 = x1 / w, y1 / h, x2 / w, y2 / h\n",
    "        cent_x, cent_y = (x1 + x2) / 2, (y1 + y2) / 2\n",
    "        pt = [cent_x, cent_y]\n",
    "        try:\n",
    "            pt = list(map(float2_0_1000, pt))\n",
    "        except Exception as e:\n",
    "            print('idx: ', img_idx, e)\n",
    "            continue\n",
    "        ans = f'({pt[0]},{pt[1]})'\n",
    "        conversation.append({'from': 'human', 'value': prompt})\n",
    "        conversation.append({'from': 'gpt', 'value': ans})\n",
    "        if img_idx % 500 == 0:\n",
    "            img = draw_box(img, (x1, y1, x2, y2))\n",
    "    if img_idx % 500 == 0:\n",
    "        save_image(img, f'tmp_{img_idx}.jpg')\n",
    "    line = {'conversation': conversation, 'image_lst': [os.path.join(img_root, img_p)]}\n",
    "    all_datas.append(line)\n",
    "    if len(all_datas) % 500 == 0:\n",
    "        if inst_type == 'func':\n",
    "            print(f'IDX: {len(all_datas)},  sample func_ann: {func_ann}')\n",
    "        else:\n",
    "            print(f'IDX: {len(all_datas)},  sample text_ann: {text_ann}')\n",
    "print('total data num: ', len(all_datas))\n",
    "save_json(all_datas, out_json_p)"
   ]
  },
  {
   "cell_type": "code",
   "execution_count": null,
   "metadata": {},
   "outputs": [],
   "source": []
  }
 ],
 "metadata": {
  "kernelspec": {
   "display_name": "vlm",
   "language": "python",
   "name": "python3"
  },
  "language_info": {
   "codemirror_mode": {
    "name": "ipython",
    "version": 3
   },
   "file_extension": ".py",
   "mimetype": "text/x-python",
   "name": "python",
   "nbconvert_exporter": "python",
   "pygments_lexer": "ipython3",
   "version": "3.10.15"
  }
 },
 "nbformat": 4,
 "nbformat_minor": 2
}
